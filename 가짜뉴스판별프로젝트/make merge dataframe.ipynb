{
 "cells": [
  {
   "cell_type": "code",
   "execution_count": null,
   "metadata": {},
   "outputs": [],
   "source": [
    "import numpy as np\n",
    "import pandas as pd\n",
    "\n",
    "\n",
    "import seaborn as sns\n",
    "import matplotlib.pyplot as plt\n",
    "import matplotlib\n",
    "\n",
    "#한글 시각화\n",
    "from matplotlib import font_manager, rc\n",
    "font_name = font_manager.FontProperties(fname=\"c:/Windows/Fonts/malgun.ttf\").get_name()\n",
    "rc('font', family=font_name)\n",
    "matplotlib.rcParams['axes.unicode_minus'] = False\n",
    "\n"
   ]
  },
  {
   "cell_type": "code",
   "execution_count": null,
   "metadata": {},
   "outputs": [],
   "source": [
    "reportrash = pd.read_csv('data/trashArticle.csv', index_col = 0)\n",
    "display(reportrash.head(2))\n",
    "reportrash.drop('기사본문url', axis = 1 , inplace = True)\n",
    "\n",
    "#reportrash['기타사항'] = reportrash[['잘못된인용', '기타', '오보']].sum(axis = 1)\n",
    "reportrash['사실 및 통계왜곡'] = reportrash[['사실왜곡', '가짜뉴스', '통계왜곡', '잘못된인용', '오보']].sum(axis = 1)\n",
    "\n",
    "reportrash.drop(['잘못된인용', '기타', '오보', '사실왜곡', '통계왜곡', '가짜뉴스'], axis = 1, inplace = True)\n",
    "\n",
    "reportrash.head(3)"
   ]
  },
  {
   "cell_type": "code",
   "execution_count": null,
   "metadata": {},
   "outputs": [],
   "source": [
    "naverDF = pd.read_csv('data/naverNewsFinal.csv')\n",
    "naverDF.tail(2)"
   ]
  },
  {
   "cell_type": "code",
   "execution_count": null,
   "metadata": {},
   "outputs": [],
   "source": []
  },
  {
   "cell_type": "code",
   "execution_count": null,
   "metadata": {},
   "outputs": [],
   "source": []
  },
  {
   "cell_type": "code",
   "execution_count": null,
   "metadata": {},
   "outputs": [],
   "source": []
  },
  {
   "cell_type": "code",
   "execution_count": null,
   "metadata": {},
   "outputs": [],
   "source": []
  },
  {
   "cell_type": "code",
   "execution_count": null,
   "metadata": {},
   "outputs": [],
   "source": []
  },
  {
   "cell_type": "code",
   "execution_count": null,
   "metadata": {},
   "outputs": [],
   "source": []
  },
  {
   "cell_type": "code",
   "execution_count": null,
   "metadata": {},
   "outputs": [],
   "source": []
  },
  {
   "cell_type": "code",
   "execution_count": null,
   "metadata": {},
   "outputs": [],
   "source": []
  },
  {
   "cell_type": "code",
   "execution_count": null,
   "metadata": {},
   "outputs": [],
   "source": []
  },
  {
   "cell_type": "code",
   "execution_count": null,
   "metadata": {},
   "outputs": [],
   "source": []
  },
  {
   "cell_type": "code",
   "execution_count": null,
   "metadata": {},
   "outputs": [],
   "source": []
  },
  {
   "cell_type": "code",
   "execution_count": null,
   "metadata": {},
   "outputs": [],
   "source": []
  },
  {
   "cell_type": "code",
   "execution_count": null,
   "metadata": {},
   "outputs": [],
   "source": []
  },
  {
   "cell_type": "code",
   "execution_count": null,
   "metadata": {},
   "outputs": [],
   "source": []
  },
  {
   "cell_type": "markdown",
   "metadata": {},
   "source": [
    "##### 삭제~"
   ]
  },
  {
   "cell_type": "markdown",
   "metadata": {},
   "source": [
    "- 헛소리선동\n",
    "- 악의적헤드라인\n",
    "- 사실왜곡\n",
    "    - 사실왜곡 + 가짜뉴스 + 잘못된인용 + 통계왜곡 + 오보"
   ]
  },
  {
   "cell_type": "code",
   "execution_count": 2,
   "metadata": {},
   "outputs": [],
   "source": [
    "import matplotlib\n",
    "#한글 시각화\n",
    "from matplotlib import font_manager, rc\n",
    "\n",
    "font_name = font_manager.FontProperties(fname=\"c:/Windows/Fonts/malgun.ttf\").get_name()\n",
    "rc('font', family=font_name)\n",
    "matplotlib.rcParams['axes.unicode_minus'] = False"
   ]
  },
  {
   "cell_type": "code",
   "execution_count": 5,
   "metadata": {
    "scrolled": false
   },
   "outputs": [
    {
     "data": {
      "text/html": [
       "<div>\n",
       "<style scoped>\n",
       "    .dataframe tbody tr th:only-of-type {\n",
       "        vertical-align: middle;\n",
       "    }\n",
       "\n",
       "    .dataframe tbody tr th {\n",
       "        vertical-align: top;\n",
       "    }\n",
       "\n",
       "    .dataframe thead th {\n",
       "        text-align: right;\n",
       "    }\n",
       "</style>\n",
       "<table border=\"1\" class=\"dataframe\">\n",
       "  <thead>\n",
       "    <tr style=\"text-align: right;\">\n",
       "      <th></th>\n",
       "      <th>newsID</th>\n",
       "      <th>제목</th>\n",
       "      <th>미디어</th>\n",
       "      <th>기자</th>\n",
       "      <th>게재일</th>\n",
       "      <th>제보횟수</th>\n",
       "      <th>악의적헤드라인</th>\n",
       "      <th>헛소리선동</th>\n",
       "      <th>사실 및 통계왜곡</th>\n",
       "    </tr>\n",
       "  </thead>\n",
       "  <tbody>\n",
       "    <tr>\n",
       "      <th>0</th>\n",
       "      <td>5</td>\n",
       "      <td>공무원 확 늘리고 통계조작… 그 정책의 비극</td>\n",
       "      <td>조선일보</td>\n",
       "      <td>안상현</td>\n",
       "      <td>2018-09-11</td>\n",
       "      <td>49</td>\n",
       "      <td>1</td>\n",
       "      <td>18</td>\n",
       "      <td>8</td>\n",
       "    </tr>\n",
       "    <tr>\n",
       "      <th>1</th>\n",
       "      <td>7</td>\n",
       "      <td>강서구 아파트 주차장서 40대 흉기 피살…전 남편 유력 용의자로 긴급체포</td>\n",
       "      <td>동아일보</td>\n",
       "      <td>김혜란</td>\n",
       "      <td>2018-10-23</td>\n",
       "      <td>31</td>\n",
       "      <td>5</td>\n",
       "      <td>7</td>\n",
       "      <td>3</td>\n",
       "    </tr>\n",
       "    <tr>\n",
       "      <th>2</th>\n",
       "      <td>8</td>\n",
       "      <td>[오늘과 내일/이승헌]강경화가 대통령대행 승계 5위인 현실</td>\n",
       "      <td>동아일보</td>\n",
       "      <td>이승헌</td>\n",
       "      <td>2018-10-23</td>\n",
       "      <td>2</td>\n",
       "      <td>0</td>\n",
       "      <td>0</td>\n",
       "      <td>0</td>\n",
       "    </tr>\n",
       "  </tbody>\n",
       "</table>\n",
       "</div>"
      ],
      "text/plain": [
       "   newsID                                        제목   미디어    기자         게재일  \\\n",
       "0       5                  공무원 확 늘리고 통계조작… 그 정책의 비극  조선일보   안상현  2018-09-11   \n",
       "1       7  강서구 아파트 주차장서 40대 흉기 피살…전 남편 유력 용의자로 긴급체포  동아일보   김혜란  2018-10-23   \n",
       "2       8          [오늘과 내일/이승헌]강경화가 대통령대행 승계 5위인 현실  동아일보   이승헌  2018-10-23   \n",
       "\n",
       "   제보횟수  악의적헤드라인  헛소리선동  사실 및 통계왜곡  \n",
       "0    49        1     18          8  \n",
       "1    31        5      7          3  \n",
       "2     2        0      0          0  "
      ]
     },
     "execution_count": 5,
     "metadata": {},
     "output_type": "execute_result"
    }
   ],
   "source": [
    "# 기타 : 잘못된인용, 기타, 오보\n",
    "# 사실왜곡+통계왜곡 : 사실왜곡, 통계왜곡\n",
    "import numpy as np\n",
    "import pandas as pd\n",
    "import matplotlib.pyplot as plt\n",
    "\n",
    "reportrash = pd.read_csv('data/trashArticle.csv', index_col = 0)\n",
    "reportrash.drop('기사본문url', axis = 1 , inplace = True)\n",
    "\n",
    "reportrash['사실 및 통계왜곡'] = reportrash[['사실왜곡', '가짜뉴스', '통계왜곡', '잘못된인용', '오보']].sum(axis = 1)\n",
    "\n",
    "reportrash.drop(['잘못된인용', '기타', '오보', '사실왜곡', '통계왜곡', '가짜뉴스'], axis = 1, inplace = True)\n",
    "\n",
    "reportrash.head(3)"
   ]
  },
  {
   "cell_type": "code",
   "execution_count": 7,
   "metadata": {},
   "outputs": [
    {
     "data": {
      "text/html": [
       "<div>\n",
       "<style scoped>\n",
       "    .dataframe tbody tr th:only-of-type {\n",
       "        vertical-align: middle;\n",
       "    }\n",
       "\n",
       "    .dataframe tbody tr th {\n",
       "        vertical-align: top;\n",
       "    }\n",
       "\n",
       "    .dataframe thead th {\n",
       "        text-align: right;\n",
       "    }\n",
       "</style>\n",
       "<table border=\"1\" class=\"dataframe\">\n",
       "  <thead>\n",
       "    <tr style=\"text-align: right;\">\n",
       "      <th></th>\n",
       "      <th>시각</th>\n",
       "      <th>카테고리</th>\n",
       "      <th>미디어</th>\n",
       "      <th>제목</th>\n",
       "      <th>내용</th>\n",
       "      <th>url</th>\n",
       "      <th>수정시간</th>\n",
       "      <th>감정표현</th>\n",
       "      <th>timestamp</th>\n",
       "    </tr>\n",
       "  </thead>\n",
       "  <tbody>\n",
       "    <tr>\n",
       "      <th>7987205</th>\n",
       "      <td>2020.12.31. 오전 12:00</td>\n",
       "      <td>사회</td>\n",
       "      <td>동아일보</td>\n",
       "      <td>경기도 공공배달앱 ‘배달특급’ 20여일만에 거래액 20억 돌파</td>\n",
       "      <td>낮은 수수료로 배달매출에 기댄 소상공인들의 부담 확 덜어줘 경기 오산시에서 중국집을...</td>\n",
       "      <td>https://news.naver.com/main/read.nhn?mode=LSD&amp;...</td>\n",
       "      <td>NaN</td>\n",
       "      <td>[4, 0, 0, 1, 0]</td>\n",
       "      <td>1.610066e+09</td>\n",
       "    </tr>\n",
       "    <tr>\n",
       "      <th>7987206</th>\n",
       "      <td>2020.12.31. 오전 12:00</td>\n",
       "      <td>사회</td>\n",
       "      <td>뉴시스</td>\n",
       "      <td>녹유 오늘의 운세51년생 침이 고여지는 대접을 받아요</td>\n",
       "      <td>서울 뉴시스 녹유 錄喩 의 오늘의 운세 2020년 12월 31일 목요일 음력 11월...</td>\n",
       "      <td>https://news.naver.com/main/read.nhn?mode=LSD&amp;...</td>\n",
       "      <td>NaN</td>\n",
       "      <td>[0, 0, 0, 0, 0]</td>\n",
       "      <td>1.610066e+09</td>\n",
       "    </tr>\n",
       "  </tbody>\n",
       "</table>\n",
       "</div>"
      ],
      "text/plain": [
       "                           시각 카테고리   미디어                                  제목  \\\n",
       "7987205  2020.12.31. 오전 12:00   사회  동아일보  경기도 공공배달앱 ‘배달특급’ 20여일만에 거래액 20억 돌파   \n",
       "7987206  2020.12.31. 오전 12:00   사회   뉴시스       녹유 오늘의 운세51년생 침이 고여지는 대접을 받아요   \n",
       "\n",
       "                                                        내용  \\\n",
       "7987205  낮은 수수료로 배달매출에 기댄 소상공인들의 부담 확 덜어줘 경기 오산시에서 중국집을...   \n",
       "7987206  서울 뉴시스 녹유 錄喩 의 오늘의 운세 2020년 12월 31일 목요일 음력 11월...   \n",
       "\n",
       "                                                       url 수정시간  \\\n",
       "7987205  https://news.naver.com/main/read.nhn?mode=LSD&...  NaN   \n",
       "7987206  https://news.naver.com/main/read.nhn?mode=LSD&...  NaN   \n",
       "\n",
       "                    감정표현     timestamp  \n",
       "7987205  [4, 0, 0, 1, 0]  1.610066e+09  \n",
       "7987206  [0, 0, 0, 0, 0]  1.610066e+09  "
      ]
     },
     "execution_count": 7,
     "metadata": {},
     "output_type": "execute_result"
    }
   ],
   "source": [
    "naverDF = pd.read_csv('data/naverNewsFinal.csv')\n",
    "naverDF.tail(2)"
   ]
  },
  {
   "cell_type": "code",
   "execution_count": null,
   "metadata": {},
   "outputs": [],
   "source": []
  },
  {
   "cell_type": "code",
   "execution_count": 6,
   "metadata": {},
   "outputs": [],
   "source": [
    "# def naverNewsRefine(df):\n",
    "    \n",
    "#     #df.drop(5, axis = 1 , inplace = True)\n",
    "#     cleanDF = df.rename(columns = {0:'시각',\n",
    "#                                    1 : '카테고리',\n",
    "#                                    2 : '미디어',\n",
    "#                                    3 : '제목', \n",
    "#                                    4 : '내용',\n",
    "#                                    5 : 'url',\n",
    "#                                    6:'수정시간', \n",
    "#                                    7:'감정표현', \n",
    "#                                    8:'timestamp'})\n",
    "    \n",
    "#     return cleanDF"
   ]
  },
  {
   "cell_type": "code",
   "execution_count": null,
   "metadata": {
    "scrolled": true
   },
   "outputs": [],
   "source": [
    "# politics2019 = naverNewsRefine(politics2019)\n",
    "# social2019 = naverNewsRefine(social2019)\n",
    "# economy2019 = naverNewsRefine(economy2019)\n",
    "# politics2020 = naverNewsRefine(politics2020)\n",
    "# social2020 = naverNewsRefine(social2020)\n",
    "# economy2020 = naverNewsRefine(economy2020)\n",
    "\n",
    "\n",
    "# naverDF = pd.concat([politics2019, economy2019, social2019, \n",
    "#                     politics2020, economy2020, social2020], ignore_index = True)\n",
    "\n",
    "\n",
    "# del politics2019, economy2019, social2019, politics2020, economy2020, social2020\n",
    "\n",
    "\n",
    "# naverDF.tail()"
   ]
  },
  {
   "cell_type": "code",
   "execution_count": null,
   "metadata": {},
   "outputs": [],
   "source": [
    "naverDF['감정표현'][0]"
   ]
  },
  {
   "cell_type": "code",
   "execution_count": null,
   "metadata": {
    "scrolled": true
   },
   "outputs": [],
   "source": [
    "%%time\n",
    "\n",
    "naverDF['감정표현'] = naverDF['감정표현'].apply(lambda x : [int(i) for i in x[1:-1].split(', ')])\n",
    "naverDF = naverDF[~naverDF[['미디어', '제목']].duplicated()]          # 중복된 데이터가 많이존재 => 중복 제거\n",
    "naverDF = naverDF.reset_index(drop = True) \n",
    "naverDF.tail(3)"
   ]
  },
  {
   "cell_type": "markdown",
   "metadata": {},
   "source": [
    "- 헛소리선동\n",
    "- 악의적헤드라인\n",
    "- 사실왜곡\n",
    "    - 사실왜곡 + 가짜뉴스 + 잘못된인용 + 통계왜곡 + 오보"
   ]
  },
  {
   "cell_type": "code",
   "execution_count": null,
   "metadata": {
    "scrolled": true
   },
   "outputs": [],
   "source": [
    "mergeDF = pd.merge(left = naverDF, right = reportrash, on = ['제목','미디어'])\n",
    "\n",
    "mergeDF"
   ]
  },
  {
   "cell_type": "code",
   "execution_count": null,
   "metadata": {},
   "outputs": [],
   "source": [
    "mergeDF['카테고리'].value_counts()"
   ]
  },
  {
   "cell_type": "markdown",
   "metadata": {},
   "source": [
    "##### 제보횟수 및 가짜뉴스 미디어 별로 시각화"
   ]
  },
  {
   "cell_type": "code",
   "execution_count": null,
   "metadata": {
    "scrolled": true
   },
   "outputs": [],
   "source": [
    "mergeDF.groupby('미디어').sum()[['제보횟수','악의적헤드라인','헛소리선동','사실 및 통계왜곡']].sort_values(by = '사실 및 통계왜곡', ascending = False)"
   ]
  },
  {
   "cell_type": "code",
   "execution_count": null,
   "metadata": {
    "scrolled": true
   },
   "outputs": [],
   "source": [
    "mergeDF.groupby(['미디어','카테고리']).sum()[['제보횟수','악의적헤드라인','헛소리선동','사실 및 통계왜곡']].sort_values(by = '사실 및 통계왜곡', ascending = False).head(30)"
   ]
  },
  {
   "cell_type": "markdown",
   "metadata": {},
   "source": [
    "##### ~미디어 별로 시각화"
   ]
  },
  {
   "cell_type": "code",
   "execution_count": null,
   "metadata": {
    "scrolled": true
   },
   "outputs": [],
   "source": [
    "fakenews = mergeDF[mergeDF['사실 및 통계왜곡'] >= 2]\n",
    "fakenews"
   ]
  },
  {
   "cell_type": "code",
   "execution_count": null,
   "metadata": {
    "scrolled": true
   },
   "outputs": [],
   "source": [
    "fakenews"
   ]
  },
  {
   "cell_type": "code",
   "execution_count": null,
   "metadata": {
    "scrolled": true
   },
   "outputs": [],
   "source": [
    "fakenews.drop(['url','timestamp','헛소리선동','게재일'], axis = 1).tail(8)"
   ]
  },
  {
   "cell_type": "code",
   "execution_count": null,
   "metadata": {
    "scrolled": false
   },
   "outputs": [],
   "source": [
    "fakenews_prob_modify = fakenews['수정시간'].notna().sum()/fakenews.shape[0]\n",
    "allnews_prob_modify = naverDF['수정시간'].notna().sum()/naverDF.shape[0]\n",
    "\n",
    "print(\"가짜뉴스 수정 비율 : %.02f\" %(fakenews_prob_modify*100))\n",
    "print(\"전체 뉴스 수정 비율 : %.02f\" %(allnews_prob_modify*100))"
   ]
  },
  {
   "attachments": {
    "image-2.png": {
     "image/png": "[encoded data removed]"
    },
    "image-3.png": {
     "image/png": "[encoded data removed]"
    },
    "image.png": {
     "image/png": "[encoded data removed]"
    }
   },
   "cell_type": "markdown",
   "metadata": {},
   "source": [
    "![image.png](attachment:image.png)\n",
    "![image-2.png](attachment:image-2.png)\n",
    "![image-3.png](attachment:image-3.png)"
   ]
  },
  {
   "cell_type": "code",
   "execution_count": null,
   "metadata": {},
   "outputs": [],
   "source": [
    "def reactionPlot(df):\n",
    "    \n",
    "    barHeight = [np.mean([int(i[0]) for i in df['감정표현']]),\n",
    "                      np.mean([int(i[1]) for i in df['감정표현']]),\n",
    "                      np.mean([int(i[2]) for i in df['감정표현']]),\n",
    "                      np.mean([int(i[3]) for i in df['감정표현']]),\n",
    "                      np.mean([int(i[4]) for i in df['감정표현']])]\n",
    "    \n",
    "    return barHeight\n",
    "    \n",
    "fakeHeight = reactionPlot(fakenews)\n",
    "navernewsHeight = reactionPlot(naverDF)"
   ]
  },
  {
   "cell_type": "code",
   "execution_count": null,
   "metadata": {
    "scrolled": true
   },
   "outputs": [],
   "source": [
    "reactionCountDF = pd.DataFrame([fakeHeight,navernewsHeight]).T\n",
    "\n",
    "reactionCountDF.columns = ['fakeNews', 'naverNews']\n",
    "reactionCountDF.index = ['좋아요', '훈훈해요', '슬퍼요', '화나요', '후속기사 원해요']\n",
    "reactionCountDF"
   ]
  },
  {
   "cell_type": "code",
   "execution_count": null,
   "metadata": {},
   "outputs": [],
   "source": [
    "reactionCountDF['fakeNews'] = round(reactionCountDF['fakeNews']/reactionCountDF['fakeNews'].sum() * 100,2).values\n",
    "reactionCountDF['naverNews'] = round(reactionCountDF['naverNews']/reactionCountDF['naverNews'].sum() * 100,2).values\n",
    "\n",
    "display(reactionCountDF)\n",
    "reactionCountDF.plot(kind = 'bar')\n",
    "plt.grid(True)\n",
    "plt.xticks(rotation = 45)\n",
    "plt.show()"
   ]
  },
  {
   "cell_type": "code",
   "execution_count": null,
   "metadata": {},
   "outputs": [],
   "source": [
    "reactionCountDF"
   ]
  },
  {
   "cell_type": "markdown",
   "metadata": {},
   "source": [
    "##### 가짜뉴스 정리 "
   ]
  },
  {
   "cell_type": "code",
   "execution_count": null,
   "metadata": {
    "scrolled": true
   },
   "outputs": [],
   "source": [
    "fakenews"
   ]
  },
  {
   "cell_type": "code",
   "execution_count": null,
   "metadata": {
    "scrolled": true
   },
   "outputs": [],
   "source": [
    "fakenews[fakenews['게재일'].isin(fakenews['게재일'].value_counts().head(3).index)]"
   ]
  },
  {
   "cell_type": "code",
   "execution_count": null,
   "metadata": {
    "scrolled": true
   },
   "outputs": [],
   "source": [
    "fakenews[fakenews['제목'].str.contains('윤석열')]"
   ]
  },
  {
   "cell_type": "code",
   "execution_count": null,
   "metadata": {
    "scrolled": true
   },
   "outputs": [],
   "source": [
    "angryPercent = fakenews['감정표현'].apply(lambda x : int(x[3]) / (sum([int(i) for i in x]) + 10e-10))\n",
    "fakenews['angryPrecent'] = angryPercent\n",
    "fakenews"
   ]
  },
  {
   "cell_type": "code",
   "execution_count": null,
   "metadata": {},
   "outputs": [],
   "source": [
    "fakenewsManyReaction = fakenews[fakenews['감정표현'].apply(lambda x : sum(x)) > 20]\n",
    "fakenewsManyReaction"
   ]
  },
  {
   "cell_type": "code",
   "execution_count": null,
   "metadata": {
    "scrolled": true
   },
   "outputs": [],
   "source": [
    "fakenewsManyReaction.sort_values(by = 'angryPrecent', ascending = False).head(30).drop(['url','timestamp'], axis = 1)"
   ]
  },
  {
   "cell_type": "code",
   "execution_count": null,
   "metadata": {},
   "outputs": [],
   "source": []
  },
  {
   "cell_type": "code",
   "execution_count": null,
   "metadata": {},
   "outputs": [],
   "source": []
  },
  {
   "cell_type": "code",
   "execution_count": null,
   "metadata": {},
   "outputs": [],
   "source": []
  },
  {
   "cell_type": "code",
   "execution_count": null,
   "metadata": {},
   "outputs": [],
   "source": []
  },
  {
   "cell_type": "code",
   "execution_count": null,
   "metadata": {},
   "outputs": [],
   "source": []
  },
  {
   "cell_type": "code",
   "execution_count": null,
   "metadata": {},
   "outputs": [],
   "source": [
    "import seaborn as sns\n",
    "\n",
    "corrArray = np.vstack(fakenews['감정표현'].values)\n",
    "totalScore = np.append(corrArray, fakenews[['악의적헤드라인', '헛소리선동', '사실 및 통계왜곡']].values, axis = 1)\n",
    "corrDF = pd.DataFrame(totalScore)\n",
    "corrDF.columns = ['좋아요', '훈훈해요', '슬퍼요', '화나요','후속기사원해요', '악의적헤드라인', '헛소리선동', '사실 및 통계왜곡']\n",
    "sns.heatmap(corrDF.corr())"
   ]
  },
  {
   "cell_type": "markdown",
   "metadata": {},
   "source": [
    "##### textRank"
   ]
  },
  {
   "cell_type": "code",
   "execution_count": null,
   "metadata": {
    "scrolled": false
   },
   "outputs": [],
   "source": [
    "import textrank\n",
    "from textrank import KeywordSummarizer\n",
    "\n",
    "from konlpy.tag import Komoran\n",
    "from konlpy.tag import Okt\n",
    "\n",
    "komoran = Komoran()\n",
    "\n",
    "def komoran_tokenize(sent):\n",
    "    words = komoran.pos(sent, join=True)\n",
    "    words = [w for w in words if ('/NNG' in w or '/NNP' in w or '/XR' in w or '/VA' in w)]\n",
    "    words = [w for w in words if len(w)>=2]\n",
    "    return words\n",
    "\n",
    "\n",
    "sents = fakenews.loc[:10, '내용']\n",
    "\n",
    "\n",
    "keyword_extractor = KeywordSummarizer(\n",
    "    tokenize = komoran_tokenize,\n",
    "    window = -1,\n",
    "    verbose = True\n",
    ")\n",
    "\n",
    "keywords = keyword_extractor.summarize(sents, topk=30)"
   ]
  },
  {
   "cell_type": "code",
   "execution_count": null,
   "metadata": {},
   "outputs": [],
   "source": [
    "import re\n",
    "\n",
    "testTXT = \"('제재/NNG', 3.881464293680671)\"\n",
    "pattern = r\"\\(\\'\\w'\"\n",
    "\n",
    "\n",
    "re.match(pattern , testTXT)"
   ]
  },
  {
   "cell_type": "code",
   "execution_count": null,
   "metadata": {
    "scrolled": true
   },
   "outputs": [],
   "source": [
    "re.compile('\\([a-zA-Z0-9가-힣]*').findall(testTXT)"
   ]
  },
  {
   "cell_type": "code",
   "execution_count": null,
   "metadata": {},
   "outputs": [],
   "source": []
  },
  {
   "cell_type": "code",
   "execution_count": null,
   "metadata": {},
   "outputs": [],
   "source": []
  },
  {
   "cell_type": "code",
   "execution_count": null,
   "metadata": {},
   "outputs": [],
   "source": []
  },
  {
   "cell_type": "markdown",
   "metadata": {},
   "source": [
    "##### crawling 감정표현"
   ]
  },
  {
   "cell_type": "markdown",
   "metadata": {},
   "source": [
    "https://news.like.naver.com/v1/search/contents?suppress_response_codes=true&callback=jQuery1124042470535482791805_1609304384626&q=NEWS%5Bne_016_0001704674%5D%7CNEWS_SUMMARY%5B016_0001704674%5D%7CNEWS_MAIN%5Bne_016_0001704674%5D&isDuplication=false&_=1609304384627"
   ]
  },
  {
   "cell_type": "markdown",
   "metadata": {},
   "source": [
    "##### uid, oid 추출"
   ]
  },
  {
   "cell_type": "code",
   "execution_count": null,
   "metadata": {},
   "outputs": [],
   "source": [
    "import re\n",
    "\n",
    "url = 'https://news.naver.com/main/read.nhn?mode=LSD&mid=sec&sid1=100&oid=023&aid=0003580257'\n",
    "\n",
    "oid = re.findall('oid=(.*)&', url)[0]\n",
    "aid = re.findall('aid=(.*)', url)[0]"
   ]
  },
  {
   "cell_type": "code",
   "execution_count": null,
   "metadata": {},
   "outputs": [],
   "source": [
    "aid = re.findall('aid=(.*)', url)\n",
    "aid"
   ]
  },
  {
   "cell_type": "code",
   "execution_count": null,
   "metadata": {},
   "outputs": [],
   "source": []
  },
  {
   "cell_type": "code",
   "execution_count": null,
   "metadata": {},
   "outputs": [],
   "source": []
  },
  {
   "cell_type": "code",
   "execution_count": null,
   "metadata": {},
   "outputs": [],
   "source": [
    "import numpy as np\n",
    "\n",
    "a = np.array([[1,1,1,1],\n",
    "     [0,0,0,0],\n",
    "     [1,2,3,4]])\n",
    "\n",
    "a"
   ]
  },
  {
   "cell_type": "code",
   "execution_count": null,
   "metadata": {},
   "outputs": [],
   "source": []
  }
 ],
 "metadata": {
  "kernelspec": {
   "display_name": "Python 3",
   "language": "python",
   "name": "python3"
  },
  "language_info": {
   "codemirror_mode": {
    "name": "ipython",
    "version": 3
   },
   "file_extension": ".py",
   "mimetype": "text/x-python",
   "name": "python",
   "nbconvert_exporter": "python",
   "pygments_lexer": "ipython3",
   "version": "3.8.5"
  }
 },
 "nbformat": 4,
 "nbformat_minor": 4
}
