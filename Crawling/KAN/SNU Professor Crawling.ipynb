{
 "cells": [
  {
   "cell_type": "markdown",
   "metadata": {},
   "source": [
    "##### 이메일 , 전화번호 등 개인정보 노출 문제로 clear output"
   ]
  },
  {
   "cell_type": "code",
   "execution_count": null,
   "metadata": {},
   "outputs": [],
   "source": []
  },
  {
   "cell_type": "code",
   "execution_count": null,
   "metadata": {},
   "outputs": [],
   "source": []
  },
  {
   "cell_type": "markdown",
   "metadata": {},
   "source": [
    "# 크롤링 접근\n",
    "1. Selenium 사용"
   ]
  },
  {
   "cell_type": "code",
   "execution_count": null,
   "metadata": {},
   "outputs": [],
   "source": [
    "#!pip install tqdm\n",
    "from selenium import webdriver\n",
    "import pandas as pd\n",
    "import numpy as np\n",
    "from tqdm.notebook import tqdm\n",
    "import lxml.html\n",
    "import requests\n",
    "import time\n",
    "from bs4 import BeautifulSoup\n",
    "import re\n",
    "from selenium.webdriver.common.keys import Keys\n",
    "from selenium.webdriver.common.action_chains import ActionChains\n"
   ]
  },
  {
   "cell_type": "markdown",
   "metadata": {},
   "source": [
    "##### 서울대학교\n",
    "https://www.snu.ac.kr/academics/undergraduate/colleges"
   ]
  },
  {
   "cell_type": "markdown",
   "metadata": {},
   "source": [
    "##### BeautifulSoup으로 html소스를 python 객체로 변환하기"
   ]
  },
  {
   "cell_type": "code",
   "execution_count": null,
   "metadata": {},
   "outputs": [],
   "source": [
    "snu_col_dict = {}\n",
    "\n",
    "chromedriver = 'chromedriver.exe'\n",
    "driver = webdriver.Chrome(chromedriver)\n",
    "\n",
    "url = 'https://www.snu.ac.kr/academics/undergraduate/colleges'\n",
    "\n",
    "driver.get(url);\n",
    "time.sleep(1) # \n",
    "\n",
    "html = driver.page_source                 #driver가 html을 가져오고\n",
    "soup = BeautifulSoup(html, 'html.parser') #BeautifulSoup으로 parsing\n",
    "\n",
    "i = 0\n",
    "\n",
    "while(True):\n",
    "    try:\n",
    "        url_ = soup.select('#skip-content > section > div > div > div > div:nth-child(' + str(i+1) + ') > h3 > a')[0].text\n",
    "        k = soup.select('#skip-content > section > div > div > div > div:nth-child(' + str(i+1) + ') > h3')[0].text\n",
    "        i += 1\n",
    "        \n",
    "        snu_col_dict.update({re.compile('[^가-힣]').sub('', k):url_})\n",
    "    except:\n",
    "        break\n",
    "\n",
    "snu_col_dict"
   ]
  },
  {
   "cell_type": "markdown",
   "metadata": {},
   "source": [
    "##### 서울대 데이터프레임 생성"
   ]
  },
  {
   "cell_type": "code",
   "execution_count": null,
   "metadata": {},
   "outputs": [],
   "source": [
    "snu_df = pd.DataFrame()"
   ]
  },
  {
   "cell_type": "markdown",
   "metadata": {},
   "source": [
    "----\n",
    "# 1. 서울대학교 인문대학 (180명)\n",
    "https://humanities.snu.ac.kr/faculty"
   ]
  },
  {
   "cell_type": "markdown",
   "metadata": {},
   "source": [
    "##### 단과대학별 크롤러 생성\n",
    "- 이름\n",
    "- 소속\n",
    "- 전공\n",
    "- 전화\n",
    "- 메일\n",
    "\n"
   ]
  },
  {
   "cell_type": "code",
   "execution_count": null,
   "metadata": {},
   "outputs": [],
   "source": [
    "College = list(snu_col_dict.keys())[0]  #'인문대학'\n",
    "\n",
    "snu_col_df = pd.DataFrame()\n",
    "\n",
    "page = 1\n",
    "\n",
    "while(True):\n",
    "    \n",
    "    snu_col_url = 'https://humanities.snu.ac.kr/faculty?page='+str(page)\n",
    "    driver.get(snu_col_url);\n",
    "    time.sleep(1)         # \n",
    "\n",
    "    print(snu_col_url)#진행상황을 보기위해 출력\n",
    "    \n",
    "    html = driver.page_source                 \n",
    "    soup = BeautifulSoup(html, 'html.parser') \n",
    "\n",
    "    page_list = []\n",
    "    \n",
    "    selector_ = '#zcmsprogram > div > div > div > div > div > div.col-lg-9 > div.proflist-wrap.mb-3 > div:nth-child('\n",
    "    \n",
    "    for i in range(10):\n",
    "        이름 = soup.select(selector_ + str(i+1) + ') > div.info > h3 > a')[0].text\n",
    "        학과 = soup.select(selector_ + str(i+1) + ') > div.info > ul > li:nth-child(1) > div > span:nth-child(1)')[0].text[4:]\n",
    "        전공 = soup.select(selector_ + str(i+1) + ') > div.info > ul > li:nth-child(2) > div')[0].text[6:]\n",
    "        전화 = soup.select(selector_ + str(i+1) + ') > div.info > ul > li:nth-child(3) > span:nth-child(2)')[0].text[4:]\n",
    "        메일 = soup.select(selector_ + str(i+1) + ') > div.info > ul > li:nth-child(3) > span:nth-child(3)')[0].text[4:]\n",
    "\n",
    "        page_list.append([이름, 학과, 전공,전화 , 메일])\n",
    "        snu_col_df = pd.DataFrame(page_list)\n",
    "        snu_col_df['학교'] = '서울대학교'\n",
    "        snu_col_df['학부'] = College\n",
    "\n",
    "    snu_df = snu_df.append(snu_col_df, ignore_index = True)\n",
    "\n",
    "    page +=1\n",
    "    \n",
    "    if page ==19:\n",
    "        break\n",
    "    \n",
    "\n",
    "#snu_df.columns = ['이름','학과','전공','번호','메일','학교','학부']\n",
    "snu_df "
   ]
  },
  {
   "attachments": {
    "image.png": {
     "image/png": "[encoded data removed]"
    }
   },
   "cell_type": "markdown",
   "metadata": {},
   "source": [
    "# 2. 사회과학대학 (PASS)\n",
    "social.snu.ac.kr\n",
    "- PASS .. 한곳에 안모여있고 너무 분산되어있음\n",
    "- 타이핑이 빠를듯\n",
    "![image.png](attachment:image.png)\n",
    "- 직접 모든 과를 들어가서 하나하나 크롤링을 해야하는데 , 너무 오래걸릴 것 같아서 PASS"
   ]
  },
  {
   "cell_type": "markdown",
   "metadata": {},
   "source": [
    "# 3. 자연과학대학 (230명)\n",
    "이름\n",
    "소속\n",
    "전공\n",
    "전화\n",
    "메일"
   ]
  },
  {
   "cell_type": "code",
   "execution_count": null,
   "metadata": {
    "scrolled": true
   },
   "outputs": [],
   "source": [
    "page = 1\n",
    "\n",
    "College = list(snu_col_dict.keys())[2]  #'자연과학대학'\n",
    "\n",
    "while(True):    \n",
    "    try:\n",
    "        snu_col_url = 'http://science.snu.ac.kr/kor/academic/professor_list.php?idx=130&m=0&s_key=&s_word=&gubun=0&department=&page=' + str(page) +  '#view_list'\n",
    "\n",
    "        driver.get(snu_col_url);\n",
    "        time.sleep(1)         # \n",
    "        \n",
    "        html = driver.page_source                 #driver가 html을 가져오고\n",
    "        soup = BeautifulSoup(html, 'html.parser') #BeautifulSoup으로 parsing    \n",
    "        print(snu_col_url)\n",
    "\n",
    "        \n",
    "        page_list = []\n",
    "        for i in range(10):\n",
    "            이름 = soup.select('.professor_txt')[i].select('h5')[0].text.strip()[:-3]\n",
    "            소속 = soup.select('.professor_txt')[i].select('p')[0].text.strip().split()[2]\n",
    "            전공 = soup.select('.professor_txt')[i].select('p')[0].text.strip().split()[8]\n",
    "            전화 = soup.select('.professor_txt')[i].select('p')[0].text.strip().split()[14]\n",
    "            try:\n",
    "                메일 = soup.select('.professor_txt')[i].select('a')[1]['href'][7:]\n",
    "            except:\n",
    "                메일 = soup.select('.professor_txt')[i].select('a')[0]['href'][7:]\n",
    "\n",
    "            page_list.append([이름, 소속, 전공, 전화 , 메일])\n",
    "            snu_col_df = pd.DataFrame(page_list)\n",
    "            snu_col_df['학교'] = '서울대학교'\n",
    "            snu_col_df['학부'] = College\n",
    "\n",
    "        snu_df = snu_df.append(snu_col_df, ignore_index = True)\n",
    "\n",
    "        page +=1\n",
    "    except:\n",
    "        break\n",
    "snu_df"
   ]
  },
  {
   "cell_type": "markdown",
   "metadata": {},
   "source": [
    "# 4. 간호대학 (22명) + 노가다로 추가 필요\n"
   ]
  },
  {
   "cell_type": "code",
   "execution_count": null,
   "metadata": {},
   "outputs": [],
   "source": [
    "College = list(snu_col_dict.keys())[3]  #'간호대학'\n",
    "\n",
    "\n",
    "for page in range(1,4):\n",
    "    snu_col_url = 'https://nursing.snu.ac.kr/faculty/professor?major=' + str(page)\n",
    "\n",
    "    driver.get(snu_col_url);\n",
    "    time.sleep(1)         # \n",
    "\n",
    "    html = driver.page_source                 #driver가 html을 가져오고\n",
    "    soup = BeautifulSoup(html, 'html.parser') #BeautifulSoup으로 parsing    \n",
    "    print(snu_col_url)\n",
    "\n",
    "    page_list = []\n",
    "    \n",
    "\n",
    "    for i in range(1,10):\n",
    "        try:\n",
    "            이름 = soup.select('#zcmsprogram > div.row.clearfix > div:nth-child(' + str(i) +') > div > div.info > h3')[0].text.split()[:-1][0]\n",
    "            소속 = '간호학'\n",
    "            전공 = soup.select('#zcmsprogram > div.row.clearfix > div:nth-child(' + str(i) +') > div > div.info > div:nth-child(3)')[0].text\n",
    "\n",
    "            전화 = '-'\n",
    "            메일 = soup.select('#zcmsprogram > div.row.clearfix > div:nth-child(' + str(i) +') > div:nth-child(1) > div.info > div:nth-child(4)')[0].text\n",
    "\n",
    "            page_list.append([이름, 소속, 전공, 전화 , 메일])\n",
    "\n",
    "            snu_col_df = pd.DataFrame(page_list)\n",
    "            snu_col_df['학교'] = '서울대학교'\n",
    "            snu_col_df['학부'] = College\n",
    "        except:\n",
    "            pass\n",
    " \n",
    "        \n",
    "\n",
    "    snu_df = snu_df.append(snu_col_df, ignore_index = True)\n",
    "snu_df"
   ]
  },
  {
   "cell_type": "code",
   "execution_count": null,
   "metadata": {},
   "outputs": [],
   "source": [
    "soup.select('#zcmsprogram > div.row.clearfix > div:nth-child(1) > div:nth-child(2) > div.info')"
   ]
  },
  {
   "cell_type": "markdown",
   "metadata": {},
   "source": [
    "# 5. 경영대학 (56명)\n",
    "\n",
    "cba.snu.ac.kr\n",
    "\n"
   ]
  },
  {
   "cell_type": "code",
   "execution_count": null,
   "metadata": {},
   "outputs": [],
   "source": [
    "College = list(snu_col_dict.keys())[4]  #경영대학\n",
    "\n",
    "snu_col_url = 'http://cba.snu.ac.kr/ko/faculty?mode=search&q='\n",
    "\n",
    "driver.get(snu_col_url);\n",
    "time.sleep(1)         # \n",
    "\n",
    "html = driver.page_source                 #driver가 html을 가져오고\n",
    "soup = BeautifulSoup(html, 'html.parser') #BeautifulSoup으로 parsing    \n",
    "print(snu_col_url)\n",
    "\n",
    "page_list = []\n",
    "\n",
    "for i in range(1,57):\n",
    "    try:\n",
    "        이름 = re.compile('[^가-힣]').sub('', soup.select('#tabm6_1 > div:nth-child(' + str(i) +') > ul > li:nth-child(1) > a')[0].text)\n",
    "        소속 = '경영대학'\n",
    "        전공 = str(soup.select('#tabm6_1 > div:nth-child(' + str(i) + ') > ul >li.info')[0]).split('<br/>')[1][:-5]\n",
    "\n",
    "        전화 = '-'\n",
    "        메일 = soup.select('#tabm6_1 > div:nth-child(' + str(i) + ') > ul > li.mail > a')[0].text\n",
    "\n",
    "        page_list.append([이름, 소속, 전공, 전화 , 메일])\n",
    "\n",
    "        snu_col_df = pd.DataFrame(page_list)\n",
    "        snu_col_df['학교'] = '서울대학교'\n",
    "        snu_col_df['학부'] = College\n",
    "    except:\n",
    "        pass\n",
    "\n",
    "snu_df = snu_df.append(snu_col_df, ignore_index = True)\n",
    "\n",
    "\n",
    "snu_df"
   ]
  },
  {
   "cell_type": "markdown",
   "metadata": {},
   "source": [
    "# 6. 공과대학 (327명)"
   ]
  },
  {
   "cell_type": "code",
   "execution_count": null,
   "metadata": {},
   "outputs": [],
   "source": [
    "list(snu_col_dict.keys())[5]"
   ]
  },
  {
   "cell_type": "code",
   "execution_count": null,
   "metadata": {},
   "outputs": [],
   "source": [
    "#단순 for문으로 돌릴 수 없는 구조라서 위와같이 해결\n",
    "row1 = '#block-system-main > div > div > div.view-content > ul > li.views-row.views-row-1.views-row-odd.views-row-first > dl > '\n",
    "row2 = '#block-system-main > div > div > div.view-content > ul > li.views-row.views-row-2.views-row-even > dl > '\n",
    "row3 = '#block-system-main > div > div > div.view-content > ul > li.views-row.views-row-3.views-row-odd > dl > '\n",
    "row4 = '#block-system-main > div > div > div.view-content > ul > li.views-row.views-row-4.views-row-even > dl > '\n",
    "row5 = '#block-system-main > div > div > div.view-content > ul > li.views-row.views-row-5.views-row-odd > dl > '\n",
    "\n",
    "row_list = [row1, row2, row3, row4, row5]\n"
   ]
  },
  {
   "cell_type": "code",
   "execution_count": null,
   "metadata": {
    "scrolled": true
   },
   "outputs": [],
   "source": [
    "College = list(snu_col_dict.keys())[5]  #'공과대학'\n",
    "\n",
    "\n",
    "for page in range(1,66):\n",
    "    snu_col_url = 'https://eng.snu.ac.kr/professor?department=All&title=&page=' + str(page)\n",
    "\n",
    "    driver.get(snu_col_url);\n",
    "    time.sleep(1)         # \n",
    "\n",
    "    html = driver.page_source                 #driver가 html을 가져오고\n",
    "    soup = BeautifulSoup(html, 'html.parser') #BeautifulSoup으로 parsing    \n",
    "    print(snu_col_url)\n",
    "\n",
    "    page_list = []      \n",
    "\n",
    "    \n",
    "    for row in row_list:\n",
    "        try:\n",
    "            이름 = soup.select(row + 'dt > a')[0].text\n",
    "            소속 = soup.select(row + 'dd')[0].text.strip().split('\\n')[0].split('|')[0][5:]\n",
    "            전공 = soup.select(row + 'dd')[0].text.strip().split('\\n')[1].split('|')[0][6:]\n",
    "            전화 = '-'\n",
    "            메일 = soup.select(row + 'dd ')[0].text.strip().split('\\n')[2].split('|')[0][6:]\n",
    "        except:\n",
    "            pass\n",
    "        page_list.append([이름, 소속, 전공, 전화 , 메일])\n",
    "\n",
    "        snu_col_df = pd.DataFrame(page_list)\n",
    "        snu_col_df['학교'] = '서울대학교'\n",
    "        snu_col_df['학부'] = College\n",
    "        \n",
    "        if 이름=='황석연':\n",
    "            break\n",
    " \n",
    "        \n",
    "\n",
    "    snu_df = snu_df.append(snu_col_df, ignore_index = True)\n",
    "    \n",
    "snu_df"
   ]
  },
  {
   "cell_type": "markdown",
   "metadata": {},
   "source": [
    "##### 이름"
   ]
  },
  {
   "cell_type": "markdown",
   "metadata": {},
   "source": [
    "# 7. 농업 (101명)"
   ]
  },
  {
   "cell_type": "code",
   "execution_count": null,
   "metadata": {},
   "outputs": [],
   "source": [
    "College = list(snu_col_dict.keys())[6]  #'공과대학'\n",
    "\n",
    "\n",
    "for page in range(1,12):\n",
    "    snu_col_url = 'https://cals.snu.ac.kr/about/organization/search/faculty?page=' + str(page)\n",
    "\n",
    "    driver.get(snu_col_url);\n",
    "    time.sleep(1)         # \n",
    "\n",
    "    html = driver.page_source                 #driver가 html을 가져오고\n",
    "    soup = BeautifulSoup(html, 'html.parser') #BeautifulSoup으로 parsing    \n",
    "    print(snu_col_url)\n",
    "\n",
    "    page_list = []      \n",
    "\n",
    "    \n",
    "    for i in range(1, 11):\n",
    "        try:\n",
    "            이름 = soup.select('#zcmsprogram > div.proflist-wrap > div:nth-child(' + str(i) + ') > div.info > h3 > a')[0].text\n",
    "            소속 = soup.select('#zcmsprogram > div.proflist-wrap > div:nth-child(' + str(i) + ') > div.info > ul > li:nth-child(1) > div:nth-child(2)')[0].text.split(' : ')[1].split(' / ')[0]\n",
    "            전공 = soup.select('#zcmsprogram > div.proflist-wrap > div:nth-child(' + str(i) + ') > div.info > ul > li:nth-child(2)')[0].text.split(' : ')[1].rstrip()\n",
    "            전화 = '-'\n",
    "            메일 = soup.select('#zcmsprogram > div.proflist-wrap > div:nth-child(' + str(i) + ') > div.info > ul > li:nth-child(3) > a')[0].text\n",
    "        except:\n",
    "            break\n",
    "        page_list.append([이름, 소속, 전공, 전화 , 메일])\n",
    "\n",
    "        snu_col_df = pd.DataFrame(page_list)\n",
    "        snu_col_df['학교'] = '서울대학교'\n",
    "        snu_col_df['학부'] = College\n",
    "    \n",
    "\n",
    "    snu_df = snu_df.append(snu_col_df, ignore_index = True)\n",
    "snu_df"
   ]
  },
  {
   "cell_type": "markdown",
   "metadata": {},
   "source": [
    "# 8. 미술대학 (25명)"
   ]
  },
  {
   "cell_type": "code",
   "execution_count": null,
   "metadata": {},
   "outputs": [],
   "source": [
    "art_col = ['oriental-painting', 'painting', 'sculpture' , 'craft', 'design']\n",
    "소속list = ['동양화과', '서양화과', '조소과', '공예전공', '디자인전공']\n",
    "소속list"
   ]
  },
  {
   "cell_type": "code",
   "execution_count": null,
   "metadata": {},
   "outputs": [],
   "source": [
    "'http://art.snu.ac.kr/category/' + art_col[0] + '/?catemenu=Faculty&type=major'"
   ]
  },
  {
   "cell_type": "code",
   "execution_count": null,
   "metadata": {},
   "outputs": [],
   "source": [
    "College = list(snu_col_dict.keys())[7]  #'공과대학'\n",
    "\n",
    "\n",
    "for col in art_col:\n",
    "    snu_col_url = 'http://art.snu.ac.kr/category/' + col + '/?catemenu=Faculty&type=major'\n",
    "\n",
    "    driver.get(snu_col_url);\n",
    "    time.sleep(1)         # \n",
    "\n",
    "    html = driver.page_source                 #driver가 html을 가져오고\n",
    "    soup = BeautifulSoup(html, 'html.parser') #BeautifulSoup으로 parsing    \n",
    "    print(snu_col_url)\n",
    "\n",
    "    page_list = []      \n",
    "\n",
    "    \n",
    "    for i, 소속_ in zip(range(2, 12), 소속list):\n",
    "        try:\n",
    "            이름 = soup.select('#content > div > div:nth-child(' +  str(i)  + ') > span.title > span:nth-child(2) > a')[0].text.strip()\n",
    "            소속 = 소속_\n",
    "            전공 = soup.select('#content > div > div:nth-child(' +  str(i)  + ') > span.title > span.area.hit')[0].text\n",
    "            전화 = '-'\n",
    "            메일 = soup.select('#content > div > div:nth-child(' +  str(i)  + ') > span.etc > span:nth-child(1)')[0].text[1:]\n",
    "        except:\n",
    "            break\n",
    "        page_list.append([이름, 소속, 전공, 전화 , 메일])\n",
    "\n",
    "        snu_col_df = pd.DataFrame(page_list)\n",
    "        snu_col_df['학교'] = '서울대학교'\n",
    "        snu_col_df['학부'] = College    \n",
    "\n",
    "    snu_df = snu_df.append(snu_col_df, ignore_index = True)\n",
    "snu_df"
   ]
  },
  {
   "cell_type": "markdown",
   "metadata": {},
   "source": [
    "# 9. 사범대학\n",
    "edu.snu.ac.kr"
   ]
  },
  {
   "cell_type": "code",
   "execution_count": null,
   "metadata": {},
   "outputs": [],
   "source": [
    "College = list(snu_col_dict.keys())[8]  #'사범대'\n",
    "\n",
    "snu_col_url = 'https://edu.snu.ac.kr/portfolio/type/1'\n",
    "\n",
    "driver.get(snu_col_url);\n",
    "time.sleep(1)         # \n",
    "\n",
    "for i in range(10):  \n",
    "    driver.execute_script(\"window.scrollTo(0, document.body.scrollHeight);\")\n",
    "        # 1초 대기\n",
    "    time.sleep(1)\n",
    "\n",
    "\n",
    "html = driver.page_source                 #driver가 html을 가져오고\n",
    "soup = BeautifulSoup(html, 'html.parser') #BeautifulSoup으로 parsing    \n",
    "print(snu_col_url)\n",
    "\n",
    "page_list = []      \n",
    "\n",
    "i = 1\n",
    "\n",
    "while(True):\n",
    "    try:\n",
    "        이름 = re.compile('[^가-힣a-bA-Z. ]').sub('', soup.select('#lc_content > li:nth-child(' + str(i) +') > dl > dt > a')[0].text)\n",
    "        소속 = soup.select('#lc_content > li:nth-child(' + str(i) +') > dl > dd > ul > li.l1')[0].text.split(' : ')[1]\n",
    "        전공 = soup.select('#lc_content > li:nth-child(' + str(i) +') > dl > dd > ul > li.l3')[0].text.split(' : ')[1]\n",
    "        전화 = soup.select('#lc_content > li:nth-child(' + str(i) +') > dl > dd > ul > li.l6')[0].text.split(' : ')[1]\n",
    "        메일 = soup.select('#lc_content > li:nth-child(' + str(i) +') > dl > dd > ul > li.l5')[0].text.split(' : ')[1]\n",
    "\n",
    "        page_list.append([이름, 소속, 전공, 전화 , 메일])\n",
    "\n",
    "        snu_col_df = pd.DataFrame(page_list)\n",
    "        snu_col_df['학교'] = '서울대학교'\n",
    "        snu_col_df['학부'] = College\n",
    "        print([이름, 소속, 전공, 전화 , 메일])\n",
    "\n",
    "    except:\n",
    "        break\n",
    "        \n",
    "    i+=1\n",
    "\n",
    "snu_df = snu_df.append(snu_col_df, ignore_index = True)\n",
    "    \n",
    "    \n",
    "snu_df"
   ]
  },
  {
   "cell_type": "markdown",
   "metadata": {},
   "source": [
    "# 10. 생활과학대학 (scroll...)\n",
    "che.snu.ac.kr\n",
    "\n",
    "명예교수도 너무많이 섞여있고 , 스크롤이고 , 개수도많지않은데 학과별로 세분화시켜놔서 노가다가 빠를듯"
   ]
  },
  {
   "cell_type": "raw",
   "metadata": {},
   "source": [
    "College = list(snu_col_dict.keys())[9]  #'공과대학'\n",
    "\n",
    "\n",
    "for url_num in che_url_list:\n",
    "    snu_col_url = 'https://che.snu.ac.kr/portfolio/part/' + url_num\n",
    "\n",
    "    driver.get(snu_col_url);\n",
    "    time.sleep(1)         # \n",
    "\n",
    "    html = driver.page_source                 #driver가 html을 가져오고\n",
    "    soup = BeautifulSoup(html, 'html.parser') #BeautifulSoup으로 parsing    \n",
    "    print(snu_col_url)\n",
    "\n",
    "    page_list = []      \n",
    "    \n",
    "\n",
    "    for i in range(1, 11):\n",
    "        try:\n",
    "            이름 = soup.select('#lc_content > li:nth-child('+ str(i) +') > dl > dd > ul >li.l1')[0].text.split(' : ')[1]\n",
    "            소속 = soup.select('#lc_content > li:nth-child('+ str(i) +') > dl > dd > ul >li.l1')[0].text.split(' : ')[1]\n",
    "            전공 = soup.select('#lc_content > li:nth-child('+ str(i) +') > dl > dd > ul >li.l3')[0].text.split(' : ')[1]\n",
    "            전화 = soup.select('#lc_content > li:nth-child('+ str(i) +') > dl > dd > ul >li.l4')[0].text.split(' : ')[1]\n",
    "            메일 = soup.select('#lc_content > li:nth-child('+ str(i) +') > dl > dd > ul >li.l6')[0].text.split(' : ')[1]\n",
    "        except:\n",
    "            print('error')\n",
    "            break\n",
    "        page_list.append([이름, 소속, 전공, 전화 , 메일])\n",
    "\n",
    "        print([이름, 소속, 전공, 전화 , 메일])\n",
    "        snu_col_df = pd.DataFrame(page_list)\n",
    "        snu_col_df['학교'] = '서울대학교'\n",
    "        snu_col_df['학부'] = College\n",
    "        \n",
    "    \n",
    "\n",
    "    snu_df = snu_df.append(snu_col_df, ignore_index = True)\n",
    "snu_df"
   ]
  },
  {
   "cell_type": "markdown",
   "metadata": {},
   "source": [
    "##### 이름"
   ]
  },
  {
   "cell_type": "markdown",
   "metadata": {},
   "source": [
    "# 11. 수의과대학 (44명)\n",
    "- https://vet.snu.ac.kr/portfolio"
   ]
  },
  {
   "cell_type": "code",
   "execution_count": null,
   "metadata": {},
   "outputs": [],
   "source": [
    "College = list(snu_col_dict.keys())[10]  #'공과대학'\n",
    "\n",
    "snu_col_url = 'https://vet.snu.ac.kr/portfolio'\n",
    "\n",
    "driver.get(snu_col_url);\n",
    "time.sleep(1)         # \n",
    "\n",
    "\n",
    "\n",
    "for i in range(10):\n",
    "    driver.execute_script(\"window.scrollTo(0, document.body.scrollHeight);\")\n",
    "        # 1초 대기\n",
    "    time.sleep(1)\n",
    "\n",
    "\n",
    "    \n",
    "html = driver.page_source                 #driver가 html을 가져오고\n",
    "soup = BeautifulSoup(html, 'html.parser') #BeautifulSoup으로 parsing \n",
    "\n",
    "print(snu_col_url)\n",
    "\n",
    "page_list = []      \n",
    "\n",
    "\n",
    "\n",
    "for i in range(1, 45):\n",
    "    try:\n",
    "        이름 = soup.select('#lc_content > li:nth-child(' + str(i) +') > dl > dt > a')[0].text\n",
    "        소속 = soup.select('#lc_content > li:nth-child(' + str(i) +') > dl > dd > ul > li.l1')[0].text.split(' : ')[1]\n",
    "        전공 = soup.select('#lc_content > li:nth-child(' + str(i) +') > dl > dd > ul > li.l3')[0].text.split(' : ')[1]\n",
    "        try:\n",
    "            전화 = soup.select('#lc_content > li:nth-child(' + str(i) +') > dl > dd > ul > li.l6')[0].text.split(' : ')[1].strip()\n",
    "        except:\n",
    "            전화 = soup.select('#lc_content > li:nth-child(' + str(i) +') > dl > dd > ul > li.l5')[0].text.split(' : ')[1].strip()\n",
    "        메일 = soup.select('#lc_content > li:nth-child(' + str(i) +') > dl > dd > ul > li.l4 > a')[0].text\n",
    "    except:\n",
    "        print('error')\n",
    "        break\n",
    "    page_list.append([이름, 소속, 전공, 전화 , 메일])\n",
    "\n",
    "    snu_col_df = pd.DataFrame(page_list)\n",
    "    snu_col_df['학교'] = '서울대학교'\n",
    "    snu_col_df['학부'] = College\n",
    "\n",
    "snu_df = snu_df.append(snu_col_df, ignore_index = True)\n",
    "\n",
    "snu_df"
   ]
  },
  {
   "cell_type": "markdown",
   "metadata": {},
   "source": [
    "# 12. 약학대학(45명)\n",
    "- https://snupharm.snu.ac.kr/ko/portfolio/part/4\n",
    "- https://snupharm.snu.ac.kr/portfolio/part/5"
   ]
  },
  {
   "cell_type": "code",
   "execution_count": null,
   "metadata": {},
   "outputs": [],
   "source": [
    "ph_url_list = ['https://snupharm.snu.ac.kr/ko/portfolio/part/4',  #약학과\n",
    "               'https://snupharm.snu.ac.kr/portfolio/part/5']     #제약학과\n",
    "\n",
    "College = list(snu_col_dict.keys())[11]  #'공과대학'\n",
    "\n",
    "for ph_url in ph_url_list:\n",
    "    snu_col_url = ph_url\n",
    "\n",
    "    driver.get(snu_col_url);\n",
    "    time.sleep(1)         # \n",
    "\n",
    "    for i in range(10):\n",
    "        driver.execute_script(\"window.scrollTo(0, document.body.scrollHeight);\")\n",
    "            # 1초 대기\n",
    "        time.sleep(1)\n",
    "\n",
    "    html = driver.page_source                 #driver가 html을 가져오고\n",
    "    soup = BeautifulSoup(html, 'html.parser') #BeautifulSoup으로 parsing    \n",
    "    print(snu_col_url)\n",
    "\n",
    "    page_list = []      \n",
    "\n",
    "    for i in range(1, 45):\n",
    "        try:\n",
    "            이름 = soup.select('#lc_content > li:nth-child(' + str(i) +') > dl > dt')[0].text\n",
    "            소속 = soup.select('#lc_content > li:nth-child(' + str(i) +') > dl > dd > ul > li.l1')[0].text.split(' : ')[1]\n",
    "            전공 = soup.select('#lc_content > li:nth-child(' + str(i) +') > dl > dd > ul > li.l3')[0].text.split(' : ')[1]\n",
    "            try:\n",
    "                전화 = soup.select('#lc_content > li:nth-child(' + str(i) +') > dl > dd > ul > li.l7')[0].text.split(' : ')[1].strip()\n",
    "            except:\n",
    "                전화 = soup.select('#lc_content > li:nth-child(' + str(i) +') > dl > dd > ul > li.l6')[0].text.split(' : ')[1].strip()\n",
    "            메일 = soup.select('#lc_content > li:nth-child(' + str(i) +') > dl > dd > ul > li.l5')[0].text.split(' : ')[1]\n",
    "        except:\n",
    "            print('error')\n",
    "            break\n",
    "        page_list.append([이름, 소속, 전공, 전화 , 메일])\n",
    "\n",
    "        print([이름, 소속, 전공, 전화 , 메일])\n",
    "        snu_col_df = pd.DataFrame(page_list)\n",
    "        snu_col_df['학교'] = '서울대학교'\n",
    "        snu_col_df['학부'] = College\n",
    "\n",
    "    snu_df = snu_df.append(snu_col_df, ignore_index = True)\n",
    "\n",
    "snu_df"
   ]
  },
  {
   "cell_type": "markdown",
   "metadata": {},
   "source": [
    "# 13. 음악대학 (35명)"
   ]
  },
  {
   "cell_type": "code",
   "execution_count": null,
   "metadata": {},
   "outputs": [],
   "source": [
    "url_list = ['7', '8' , '13' , '58', '59', '60', '10', '9']"
   ]
  },
  {
   "cell_type": "code",
   "execution_count": null,
   "metadata": {
    "scrolled": false
   },
   "outputs": [],
   "source": [
    "College = list(snu_col_dict.keys())[12]  #'공과대학'\n",
    "\n",
    "\n",
    "for url_num in url_list:\n",
    "    snu_col_url = 'https://music.snu.ac.kr/portfolio/part/' + url_num\n",
    "\n",
    "    driver.get(snu_col_url);\n",
    "    time.sleep(1)         # \n",
    "\n",
    "    html = driver.page_source                 #driver가 html을 가져오고\n",
    "    soup = BeautifulSoup(html, 'html.parser') #BeautifulSoup으로 parsing    \n",
    "    print(snu_col_url)\n",
    "\n",
    "    page_list = []      \n",
    "\n",
    "    for i in range(1, 11):\n",
    "        try:\n",
    "            이름 = soup.select('#lc_content > li:nth-child(' + str(i) +') > dl > dt > a')[0].text.split('(')[0]\n",
    "            소속 = soup.select('#lc_content > li:nth-child(' + str(i) +') > dl > dd > ul > li.l1')[0].text.split(' : ')[1]\n",
    "            전공 = soup.select('#lc_content > li:nth-child(' + str(i) +') > dl > dd > ul > li.l3')[0].text.split(' : ')[1]\n",
    "            전화 = soup.select('#lc_content > li:nth-child(' + str(i) +') > dl > dd > ul > li.l5')[0].text.split(' : ')[1]\n",
    "            메일 = soup.select('#lc_content > li:nth-child(' + str(i) +') > dl > dd > ul > li.l4 > a')[0].text.strip()\n",
    "        except:\n",
    "            break\n",
    "        page_list.append([이름, 소속, 전공, 전화 , 메일])\n",
    "\n",
    "        print([이름, 소속, 전공, 전화 , 메일])\n",
    "        snu_col_df = pd.DataFrame(page_list)\n",
    "        snu_col_df['학교'] = '서울대학교'\n",
    "        snu_col_df['학부'] = College\n",
    "        \n",
    "    \n",
    "\n",
    "    snu_df = snu_df.append(snu_col_df, ignore_index = True)\n",
    "snu_df"
   ]
  },
  {
   "cell_type": "markdown",
   "metadata": {},
   "source": [
    "# 14. 의과대학(Scroll...) # 437명"
   ]
  },
  {
   "cell_type": "code",
   "execution_count": null,
   "metadata": {},
   "outputs": [],
   "source": [
    "page_list = list(range(4,44)) + [88]\n",
    "\n",
    "\n",
    "College = list(snu_col_dict.keys())[13]  #'의과대학'\n",
    "\n",
    "\n",
    "\n",
    "for page_ in page_list:\n",
    "    snu_col_url = 'https://medicine.snu.ac.kr/ko/portfolio/part/' + str(page_)\n",
    "    \n",
    "    driver.get(snu_col_url);\n",
    "    time.sleep(1)         # \n",
    "\n",
    "    for i in range(2):  \n",
    "        driver.execute_script(\"window.scrollTo(0, document.body.scrollHeight);\")\n",
    "            # 1초 대기\n",
    "        time.sleep(1)\n",
    "\n",
    "\n",
    "\n",
    "    html = driver.page_source                 #driver가 html을 가져오고\n",
    "    soup = BeautifulSoup(html, 'html.parser') #BeautifulSoup으로 parsing    \n",
    "    print(snu_col_url)\n",
    "\n",
    "    page_list = []      \n",
    "\n",
    "    i = 1\n",
    "\n",
    "    while(True):\n",
    "        try:\n",
    "            이름 = re.compile('[^가-힣]').sub('' , soup.select('#lc_content > li:nth-child(' + str(i) +') > dl > dt > a')[0].text)\n",
    "            소속 = soup.select('#lc_content > li:nth-child(' + str(i) +') > dl > dd > ul > li.l1')[0].text.split(' : ')[1]\n",
    "            전공 = soup.select('#lc_content > li:nth-child(' + str(i) +') > dl > dd > ul > li.l3')[0].text.split(' : ')[1]\n",
    "            전화 = '-'\n",
    "            메일 = soup.select('#lc_content > li:nth-child(' + str(i) +') > dl > dd > ul > li.l5')[0].text.split(' : ')[1]\n",
    "\n",
    "            page_list.append([이름, 소속, 전공, 전화 , 메일])\n",
    "\n",
    "            snu_col_df = pd.DataFrame(page_list)\n",
    "            snu_col_df['학교'] = '서울대학교'\n",
    "            snu_col_df['학부'] = College\n",
    "        except:\n",
    "            break\n",
    "\n",
    "        i+=1\n",
    "        \n",
    "    snu_df = snu_df.append(snu_col_df, ignore_index = True)\n",
    "    \n",
    "    \n",
    "snu_df"
   ]
  },
  {
   "cell_type": "markdown",
   "metadata": {},
   "source": [
    "# 15. 자유전공학부(scroll) 21명"
   ]
  },
  {
   "cell_type": "code",
   "execution_count": null,
   "metadata": {},
   "outputs": [],
   "source": [
    "College = list(snu_col_dict.keys())[14]  #'공과대학'\n",
    "\n",
    "\n",
    "snu_col_url = 'https://cls.snu.ac.kr/portfolio'\n",
    "\n",
    "driver.get(snu_col_url);\n",
    "time.sleep(1)         # \n",
    "\n",
    "for i in range(5):  \n",
    "    driver.execute_script(\"window.scrollTo(0, document.body.scrollHeight);\")\n",
    "        # 1초 대기\n",
    "    time.sleep(1)\n",
    "\n",
    "\n",
    "\n",
    "html = driver.page_source                 #driver가 html을 가져오고\n",
    "soup = BeautifulSoup(html, 'html.parser') #BeautifulSoup으로 parsing    \n",
    "print(snu_col_url)\n",
    "\n",
    "page_list = []      \n",
    "\n",
    "i = 1\n",
    "\n",
    "while(True):\n",
    "    try:\n",
    "        이름 = re.compile('[^가-힣]').sub('' , soup.select('#lc_content > li:nth-child(' + str(i) +') > dl > dt > a')[0].text)\n",
    "        소속 = '자유전공학 '+soup.select('#lc_content > li:nth-child(' + str(i) +') > dl > dd > ul > li.l1')[0].text.split(' : ')[1]\n",
    "        전공 = soup.select('#lc_content > li:nth-child(' + str(i) +') > dl > dd > ul > li.l2')[0].text.split(' : ')[1]\n",
    "        전화 = soup.select('#lc_content > li:nth-child(' + str(i) +') > dl > dd > ul > li.l5')[0].text.split(' : ')[1]\n",
    "        메일 = soup.select('#lc_content > li:nth-child(' + str(i) +') > dl > dd > ul > li.l4')[0].text.split(' : ')[1]\n",
    "\n",
    "        page_list.append([이름, 소속, 전공, 전화 , 메일])\n",
    "\n",
    "        snu_col_df = pd.DataFrame(page_list)\n",
    "        snu_col_df['학교'] = '서울대학교'\n",
    "        snu_col_df['학부'] = College\n",
    "    except:\n",
    "        break\n",
    "\n",
    "    i+=1\n",
    "\n",
    "snu_df = snu_df.append(snu_col_df, ignore_index = True)\n",
    "\n",
    "    \n",
    "snu_df"
   ]
  },
  {
   "cell_type": "code",
   "execution_count": null,
   "metadata": {},
   "outputs": [],
   "source": [
    "snu_df"
   ]
  },
  {
   "cell_type": "code",
   "execution_count": null,
   "metadata": {},
   "outputs": [],
   "source": [
    "snu_df[~snu_df[4].str.contains('@')]"
   ]
  },
  {
   "cell_type": "code",
   "execution_count": null,
   "metadata": {},
   "outputs": [],
   "source": [
    "snu_df.columns = ['이름','소속','전공','전화번호','이메일','학교','학부']\n",
    "snu_df"
   ]
  },
  {
   "cell_type": "markdown",
   "metadata": {},
   "source": [
    "##### + 간호대학 노가다 + 생활과학대학 노가다"
   ]
  },
  {
   "cell_type": "code",
   "execution_count": null,
   "metadata": {},
   "outputs": [],
   "source": [
    "snu_df.to_excel('서울대학교 교수v1.xlsx')"
   ]
  }
 ],
 "metadata": {
  "kernelspec": {
   "display_name": "Python 3",
   "language": "python",
   "name": "python3"
  },
  "language_info": {
   "codemirror_mode": {
    "name": "ipython",
    "version": 3
   },
   "file_extension": ".py",
   "mimetype": "text/x-python",
   "name": "python",
   "nbconvert_exporter": "python",
   "pygments_lexer": "ipython3",
   "version": "3.8.5"
  }
 },
 "nbformat": 4,
 "nbformat_minor": 2
}
